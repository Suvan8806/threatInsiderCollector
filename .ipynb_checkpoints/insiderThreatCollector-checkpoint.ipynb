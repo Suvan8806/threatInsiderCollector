{
 "cells": [
  {
   "cell_type": "code",
   "execution_count": null,
   "metadata": {},
   "outputs": [],
   "source": [
    "import requests\n",
    "\n",
    "url = \"https://kilthub.cmu.edu/articles/dataset/Insider_Threat_Test_Dataset/12841247\"\n",
    "\n",
    "data = requests.get(url)\n",
    "\n",
    "\n",
    "from bs4 import BeautifulSoup\n",
    "soup = BeautifulSoup(data.text, \"html.parser\")\n",
    "\n",
    "link_tag = soup.find('a', {'id': 'a11y-1-tab-tab-download'})\n",
    "\n",
    "# Get the href attribute (the URL)\n",
    "if link_tag:\n",
    "    download_url = link_tag.get('href')\n",
    "    print(\"Download URL:\", download_url)\n",
    "else:\n",
    "    print(\"Download link not found\")\n",
    "\n",
    "response = requests.get(url)\n",
    "\n",
    "# Save the content to a file (adjust the file name and path as needed)\n",
    "with open(\"insiderThreatDataset.zip\", \"wb\") as file:\n",
    "    file.write(response.content)\n",
    "\n",
    "print(\"Download completed!\")\n"
   ]
  }
 ],
 "metadata": {
  "kernelspec": {
   "display_name": "Python 3 (ipykernel)",
   "language": "python",
   "name": "python3"
  },
  "language_info": {
   "codemirror_mode": {
    "name": "ipython",
    "version": 3
   },
   "file_extension": ".py",
   "mimetype": "text/x-python",
   "name": "python",
   "nbconvert_exporter": "python",
   "pygments_lexer": "ipython3",
   "version": "3.12.3"
  }
 },
 "nbformat": 4,
 "nbformat_minor": 4
}
